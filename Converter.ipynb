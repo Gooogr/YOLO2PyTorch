{
 "cells": [
  {
   "cell_type": "markdown",
   "metadata": {},
   "source": [
    "Hi there! The purpose of this notebook - develop and test YOlO2PyTorch conveter before to pack it inside .py scripts. <br>\n",
    "Supported YOLO version:\n",
    "* YOLO v3\n",
    "\n",
    "Based on the tutorials: https://blog.paperspace.com/how-to-implement-a-yolo-object-detector-in-pytorch/\n",
    "\n",
    "Additional info:\n",
    "* Cfg parameters meaning: https://github.com/AlexeyAB/darknet/wiki/CFG-Parameters-in-the-different-layers\n",
    "* ```net``` section cfg parameters meaning: https://github.com/AlexeyAB/darknet/wiki/CFG-Parameters-in-the-%5Bnet%5D-section"
   ]
  },
  {
   "cell_type": "code",
   "execution_count": 9,
   "metadata": {},
   "outputs": [
    {
     "name": "stdout",
     "output_type": "stream",
     "text": [
      "1.7.0+cpu\n"
     ]
    }
   ],
   "source": [
    "import torch\n",
    "import torch.nn as nn\n",
    "import torch.nn.functional as F \n",
    "\n",
    "print(torch.__version__)"
   ]
  },
  {
   "cell_type": "markdown",
   "metadata": {},
   "source": [
    "### Helping functions"
   ]
  },
  {
   "cell_type": "code",
   "execution_count": 2,
   "metadata": {},
   "outputs": [],
   "source": [
    "def parse_cfg(file_path):\n",
    "    \"\"\"\n",
    "    Parse .cfg darknet file with neural net architecture.\n",
    "    Input:\n",
    "        Path to a .cfg file\n",
    "    Output:\n",
    "        Returns a list of blocks. Each blocks describes a block in the neural\n",
    "        network to be built. Block is represented as a dictionary in the list\n",
    "\n",
    "    \"\"\"\n",
    "    # Split cfg files to the lines\n",
    "    cfg_file = open(file_path, 'r')\n",
    "    lines = cfg_file.read().splitlines()\n",
    "    lines = [x.rstrip().lstrip() for x in lines if (x != '') and ('#' not in x)]\n",
    "    blocks = []\n",
    "    # Pack it into list of dict\n",
    "    for line in lines:\n",
    "        if line[0] == '[':                             # [ symbols means new block announcement\n",
    "            block = {}\n",
    "            block['type'] = line[1:-1]\n",
    "            blocks.append(block)\n",
    "        else:\n",
    "            key, value = line.split('=')\n",
    "            block[key.rstrip()] = value.lstrip()       # rsplit/lsplit in case user type ' = ' instead of '='    \n",
    "    return blocks"
   ]
  },
  {
   "cell_type": "code",
   "execution_count": 7,
   "metadata": {},
   "outputs": [],
   "source": [
    "def create_modules(blocks):\n",
    "    '''\n",
    "    Create PyTorch model based on parsed darknet model blocks\n",
    "    Input:\n",
    "        'blocks' list from the 'parse_cfg' function\n",
    "    Output:\n",
    "        PyTorch ModuleList object\n",
    "    '''\n",
    "    # Setting up variables\n",
    "    module_list = nn.ModuleList()\n",
    "    prev_filters = 3               # Track previous layer depth. Initial depth - 3 (RGB image)\n",
    "    output_filters = []            # Track all ???\n",
    "    \n",
    "    # Capture general information about a net\n",
    "    net_info = blocks[0]\n",
    "    \n",
    "    for idx, x in enumerate(blocks[1:]):\n",
    "        module = nn.Sequential()\n",
    "        \n",
    "        ## CONVOLUTIONAL LAYERS\n",
    "        # Get info about a convolutional layer\n",
    "        if x['type'] == 'convolutional':\n",
    "            try:\n",
    "                batch_norm = int(x['batch_normalize'])\n",
    "                bias = False\n",
    "            except:\n",
    "                batch_norm = 0\n",
    "                bias = True\n",
    "            activation = x['activation']    \n",
    "            filters = int(x['filters'])\n",
    "            kernel_size = int(x['size'])\n",
    "            stride = int(x['stride'])\n",
    "            padding = int(x['pad'])\n",
    "            \n",
    "            # Convert padding values according to AlexeyAB's wiki page\n",
    "            if padding == 1:\n",
    "                padding = kenel_size // 2   \n",
    "            else:\n",
    "                padding = padding\n",
    "                \n",
    "            # Create PyTorch convolutional layer\n",
    "            conv = nn.Conv2d(prev_filters, filters, kernel_size, stride, padding, bias=bias)\n",
    "            module.add_module('conv_{}'.format(idx), conv)\n",
    "        \n",
    "            # Add BatchNorm layer\n",
    "            if batch_norm:\n",
    "                bn = nn.BatchNorm2d(filters)\n",
    "                module.add_module('batch_norm_{}'.format(idx), bn)\n",
    "\n",
    "            # Add Activation layer\n",
    "            if activation == 'leaky':\n",
    "                activ = nn.LeakyReLU(negative_slope=0.1, inplace=True)\n",
    "                module.add_module('leaky_ReLu_{}'.format(idx), activ)\n",
    "            else: # linear case\n",
    "                pass                                                            #???\n",
    "            \n",
    "        ## UPSAMPLE LAYER\n",
    "        \n",
    "        \n",
    "        ## SHORTCUT LAYER\n",
    "        \n",
    "        \n",
    "        ## ROUTE LAYER\n",
    "        \n",
    "        ## YOLO LAYER\n",
    "        \n",
    "        ## UPDATE VARIABLES\n",
    "        module_list.append(module)\n",
    "        prev_filters = filters\n",
    "        output_filters.append(filters)\n",
    "        \n",
    "    return module_list\n",
    "                \n",
    "            \n",
    "            \n",
    "    \n",
    "    \n",
    "    "
   ]
  },
  {
   "cell_type": "code",
   "execution_count": null,
   "metadata": {},
   "outputs": [],
   "source": []
  },
  {
   "cell_type": "code",
   "execution_count": 5,
   "metadata": {},
   "outputs": [],
   "source": [
    "FILE_PATH = './detector/cfg/yolov3.cfg'\n",
    "result = parse_cfg(FILE_PATH)"
   ]
  },
  {
   "cell_type": "code",
   "execution_count": null,
   "metadata": {},
   "outputs": [],
   "source": []
  },
  {
   "cell_type": "code",
   "execution_count": 10,
   "metadata": {},
   "outputs": [
    {
     "data": {
      "text/plain": [
       "{'type': 'convolutional',\n",
       " 'batch_normalize': '1',\n",
       " 'filters': '32',\n",
       " 'size': '3',\n",
       " 'stride': '1',\n",
       " 'pad': '1',\n",
       " 'activation': 'leaky'}"
      ]
     },
     "execution_count": 10,
     "metadata": {},
     "output_type": "execute_result"
    }
   ],
   "source": [
    "result[1]"
   ]
  },
  {
   "cell_type": "code",
   "execution_count": null,
   "metadata": {},
   "outputs": [],
   "source": []
  }
 ],
 "metadata": {
  "kernelspec": {
   "display_name": "Python 3",
   "language": "python",
   "name": "python3"
  },
  "language_info": {
   "codemirror_mode": {
    "name": "ipython",
    "version": 3
   },
   "file_extension": ".py",
   "mimetype": "text/x-python",
   "name": "python",
   "nbconvert_exporter": "python",
   "pygments_lexer": "ipython3",
   "version": "3.7.8"
  }
 },
 "nbformat": 4,
 "nbformat_minor": 4
}
